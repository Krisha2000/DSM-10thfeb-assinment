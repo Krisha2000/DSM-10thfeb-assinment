{
 "cells": [
  {
   "cell_type": "markdown",
   "id": "79efcfa7-ddca-49cd-9a75-02977a9e5379",
   "metadata": {},
   "source": [
    "# Quetion : 1"
   ]
  },
  {
   "cell_type": "markdown",
   "id": "e3e851e4-d669-485a-bafc-192098f84fba",
   "metadata": {},
   "source": [
    "open() function is used to open a file in Python. The different modes of opening a file are:\n",
    "\n",
    "r: Read mode (default). It is used to read the file.\n",
    "\n",
    "w: Write mode. It is used to write data to a file. If the file already exists, it is truncated to zero length.\n",
    "\n",
    "x: Exclusive mode. It is used to create a new file and write data to it. If the file already exists, the operation fails.\n",
    "\n",
    "a: Append mode. It is used to add data to the end of the file. The file is not truncated.\n",
    "\n",
    "b: Binary mode. It is used to read or write binary data.\n",
    "\n",
    "t: Text mode (default). It is used to read or write text data.\n"
   ]
  },
  {
   "cell_type": "markdown",
   "id": "69ebfb3a-7adf-4195-ac82-14da9f049c5e",
   "metadata": {},
   "source": [
    "# Quetion : 2"
   ]
  },
  {
   "cell_type": "markdown",
   "id": "ee33831f-57bd-496d-9b6a-60f2d86444ba",
   "metadata": {},
   "source": [
    "close() function is used to close a file in Python. It is important to close a file because it frees up the resources used by the file and ensures that any data in the buffer is written to the file. If a file is not closed, it can lead to memory leaks and data corruption."
   ]
  },
  {
   "cell_type": "markdown",
   "id": "bc48e6af-da91-4190-ad40-27d251edb1fc",
   "metadata": {},
   "source": [
    "# Quetion : 3"
   ]
  },
  {
   "cell_type": "code",
   "execution_count": 2,
   "id": "930134bc-b8a6-4609-8296-eede34dd0314",
   "metadata": {},
   "outputs": [
    {
     "name": "stdout",
     "output_type": "stream",
     "text": [
      "I want to become a Data Scientist\n"
     ]
    }
   ],
   "source": [
    "# Open a file in write mode\n",
    "file = open(\"data_scientist.txt\", \"w\")\n",
    "\n",
    "# Write a string to the file\n",
    "file.write(\"I want to become a Data Scientist\")\n",
    "\n",
    "# Close the file\n",
    "file.close()\n",
    "\n",
    "# Open the file in read mode\n",
    "file = open(\"data_scientist.txt\", \"r\")\n",
    "\n",
    "# Read the contents of the file\n",
    "content = file.read()\n",
    "\n",
    "# Close the file\n",
    "file.close()\n",
    "\n",
    "# Print the contents of the file\n",
    "print(content)"
   ]
  },
  {
   "cell_type": "markdown",
   "id": "c304d27f-2354-4336-b626-c5634992cc84",
   "metadata": {},
   "source": [
    "# Quetion : 4"
   ]
  },
  {
   "cell_type": "markdown",
   "id": "a0cf39d8-9530-4331-9962-c428569b1f0a",
   "metadata": {},
   "source": [
    "read() function is used to read the entire content of a file and return it as a string. It takes an optional parameter to specify the number of bytes to read.\n",
    "\n",
    "readline() function is used to read a single line from a file and return it as a string. It moves the file pointer to the next line after reading the current line.\n",
    "\n",
    "readlines() function is used to read all the lines of a file and return them as a list of strings. Each line is a separate element in the list."
   ]
  },
  {
   "cell_type": "code",
   "execution_count": 9,
   "id": "9065cbf4-fe59-4950-8910-4ea669e5cbba",
   "metadata": {},
   "outputs": [
    {
     "name": "stdout",
     "output_type": "stream",
     "text": [
      "This is the first line.\n",
      "This is the second line.\n",
      "This is the third line.\n",
      "This is the first line.\n",
      "\n",
      "['This is the second line.\\n', 'This is the third line.']\n"
     ]
    }
   ],
   "source": [
    "\n",
    "file1 = open(\"sample.txt\", \"w\")\n",
    "lines=[\"This is the first line.\\n\",\"This is the second line.\\n\",\"This is the third line.\"]\n",
    "file1.writelines(lines)\n",
    "file1.close()\n",
    "\n",
    "file1=open(\"sample.txt\", \"r\")\n",
    "content = file1.read()\n",
    "print(content)\n",
    "\n",
    "\n",
    "file1.seek(0)\n",
    "\n",
    "fline1 = file1.readline()\n",
    "print(line1)\n",
    "\n",
    "lines = file1.readlines()\n",
    "print(lines)\n",
    "\n",
    "\n",
    "file1.close()\n"
   ]
  },
  {
   "cell_type": "markdown",
   "id": "0ee570b5-6807-42b8-bcab-b3b8e99c8799",
   "metadata": {},
   "source": [
    "# Quetion : 5"
   ]
  },
  {
   "cell_type": "markdown",
   "id": "7afc458f-5206-4437-b37f-02e9a37a1cd7",
   "metadata": {},
   "source": [
    "The with statement is used with open() to ensure that the file is automatically closed when the block of code inside the with statement is exited. The advantage of using with statement and open() together is that it simplifies the code and ensures that the file is"
   ]
  },
  {
   "cell_type": "markdown",
   "id": "406fc53a-98c9-4f5e-bb41-d15a5c9afdb6",
   "metadata": {},
   "source": [
    "# Quetion : 6"
   ]
  },
  {
   "cell_type": "markdown",
   "id": "5f79350f-7186-4adc-9966-4314d7c4144d",
   "metadata": {},
   "source": [
    "write() function is used to write a string to a file. It takes a string as input and writes it to the file. If the file already exists, it overwrites the existing content. If the file does not exist, it creates a new file with the specified name. Here is an example Python code to demonstrate the use of write() function:"
   ]
  },
  {
   "cell_type": "markdown",
   "id": "4221a0bd-4f10-4033-be00-8eec3639ebd9",
   "metadata": {},
   "source": [
    "writelines() function is used to write a list of strings to a file. It takes a list of strings as input and writes each string to the file. If the file already exists, it overwrites the existing content. If the file does not exist, it creates a new file with the specified name. Here is an example Python code to demonstrate the use of writelines() function:"
   ]
  },
  {
   "cell_type": "code",
   "execution_count": 12,
   "id": "06bf3efd-030f-49a7-b1b1-c4e0df6f50f5",
   "metadata": {},
   "outputs": [],
   "source": [
    "file1 = open(\"sample1.txt\", \"w\")\n",
    "lines2=[\"This is the first line.\\n\",\"This is the second line.\\n\",\"This is the third line.\"]\n",
    "file1.writelines(lines2)\n",
    "file1.close()"
   ]
  },
  {
   "cell_type": "code",
   "execution_count": null,
   "id": "da4e6fd0-b00b-4b36-8f71-43aa041b6fbe",
   "metadata": {},
   "outputs": [],
   "source": []
  }
 ],
 "metadata": {
  "kernelspec": {
   "display_name": "Python 3 (ipykernel)",
   "language": "python",
   "name": "python3"
  },
  "language_info": {
   "codemirror_mode": {
    "name": "ipython",
    "version": 3
   },
   "file_extension": ".py",
   "mimetype": "text/x-python",
   "name": "python",
   "nbconvert_exporter": "python",
   "pygments_lexer": "ipython3",
   "version": "3.10.8"
  }
 },
 "nbformat": 4,
 "nbformat_minor": 5
}
